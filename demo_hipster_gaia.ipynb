{
 "cells": [
  {
   "cell_type": "markdown",
   "metadata": {},
   "source": [
    "# Demo for HiPSter Inference using Gaia XP DR3"
   ]
  },
  {
   "cell_type": "markdown",
   "metadata": {},
   "source": [
    "## Generate the HiPS tiles"
   ]
  },
  {
   "cell_type": "code",
   "execution_count": null,
   "metadata": {},
   "outputs": [],
   "source": [
    "import hipster\n",
    "\n",
    "hipster.HiPSGenerator(\n",
    "    decoder=hipster.Inference(\"data/gaia/models/full_trained/decoder.onnx\"),\n",
    "    image_maker=hipster.SpectrumPlotter(\n",
    "        wavelengths=hipster.Range(336, 1021, 2),\n",
    "        ylim=(0, 1),\n",
    "        figsize_in_pixel=128,\n",
    "        margin=0.02,\n",
    "        flip=True,\n",
    "    ),\n",
    "    max_order=2,\n",
    "    hierarchy=4,\n",
    "    hips_path=\"output/gaia/model\",\n",
    ").execute()"
   ]
  },
  {
   "cell_type": "markdown",
   "metadata": {},
   "source": [
    "## Catalog of training dataset\n",
    "\n"
   ]
  },
  {
   "cell_type": "code",
   "execution_count": null,
   "metadata": {},
   "outputs": [],
   "source": [
    "hipster.VOTableGenerator(\n",
    "    encoder=hipster.Inference(\"data/gaia/models/full_trained/encoder.onnx\"),\n",
    "    data_directory=\"data/gaia/parquet\",\n",
    "    data_column=\"flux\",\n",
    "    dataset=\"gaia\",\n",
    "    output_file=\"output/gaia.vot\",\n",
    ").execute()"
   ]
  },
  {
   "cell_type": "markdown",
   "metadata": {},
   "source": [
    "## Visualize HiPS tiles and catalog using Aladin\n",
    "\n",
    "- [Aladin-Lite](https://github.com/cds-astro/aladin-lite)\n",
    "- [PyAladin](https://github.com/cds-astro/ipyaladin)"
   ]
  },
  {
   "cell_type": "code",
   "execution_count": null,
   "metadata": {},
   "outputs": [],
   "source": [
    "from ipyaladin import Aladin\n",
    "\n",
    "aladin = Aladin(survey=\"output/gaia/model\", fov=180, show_fullscreen_control=False)\n",
    "aladin.add_catalog_from_URL(\"output/gaia.vot\", {\"source_size\": 5, \"color\": \"red\"})\n",
    "aladin"
   ]
  },
  {
   "cell_type": "code",
   "execution_count": null,
   "metadata": {},
   "outputs": [],
   "source": [
    "!hipster --config configs/hipster/gaia.yaml"
   ]
  }
 ],
 "metadata": {
  "kernelspec": {
   "display_name": ".venv",
   "language": "python",
   "name": "python3"
  },
  "language_info": {
   "codemirror_mode": {
    "name": "ipython",
    "version": 3
   },
   "file_extension": ".py",
   "mimetype": "text/x-python",
   "name": "python",
   "nbconvert_exporter": "python",
   "pygments_lexer": "ipython3",
   "version": "3.12.3"
  }
 },
 "nbformat": 4,
 "nbformat_minor": 2
}
