{
 "cells": [
  {
   "cell_type": "markdown",
   "metadata": {},
   "source": [
    "<img style=\"float: right; margin-right: 100px\" src=\"./images/skirt.jpg\" width=\"200\" height=\"200\" />\n",
    "\n",
    "# Spherinator Training using Illustris TNG\n",
    "\n",
    "This notebook demonstrates how to train a Spherinator model using the Illustris TNG dataset."
   ]
  },
  {
   "cell_type": "markdown",
   "metadata": {},
   "source": [
    "## Download data\n",
    "\n",
    "For a small test data set we use 200 selected synthetic\n",
    "[SKIRT](https://www.tng-project.org/data/docs/specifications/#sec5l) images the Illustris TNG100-1\n",
    "simulation.\n",
    "\n",
    ":::note\n",
    "For the download an secret API key is needed.\n",
    "Please register at [Illustris TNG](https://www.tng-project.org/data/) and put your API\n",
    "key to the `.illustris_api_key.txt` file."
   ]
  },
  {
   "cell_type": "code",
   "execution_count": null,
   "metadata": {},
   "outputs": [],
   "source": [
    "import os\n",
    "\n",
    "with open(\".illustris_api_key.txt\", \"r\") as file:\n",
    "    ILLUSTRIS_API_KEY = file.read().rstrip()\n",
    "\n",
    "with open(\"subhalo_ids.txt\", \"r\") as file:\n",
    "    subhalo_ids = [int(line.strip()) for line in file.readlines()]\n",
    "\n",
    "for sid in subhalo_ids:\n",
    "    if os.path.exists(f\"./data/illustris/fits/TNG100/sdss/snapnum_099/data/broadband_{sid}.fits\"):\n",
    "        continue\n",
    "    !wget -nc -P ./data/illustris/fits/TNG100/sdss/snapnum_099/data --content-disposition \\\n",
    "        --header=\"API-Key: {ILLUSTRIS_API_KEY}\" \\\n",
    "        \"http://www.tng-project.org/api/TNG100-1/snapshots/99/subhalos/{sid}/skirt/broadband_sdss.fits\""
   ]
  },
  {
   "cell_type": "markdown",
   "metadata": {},
   "source": [
    "## Data preparation\n",
    "\n",
    "We use PEST to transform the FITS files to a parquet format. "
   ]
  },
  {
   "cell_type": "code",
   "execution_count": null,
   "metadata": {},
   "outputs": [],
   "source": [
    "from pest import FitsConverter\n",
    "\n",
    "FitsConverter(image_size=128).convert_all(\n",
    "    \"data/illustris/fits/TNG100/sdss/snapnum_099/data\", \"data/illustris/parquet\"\n",
    ")"
   ]
  },
  {
   "cell_type": "markdown",
   "metadata": {},
   "source": [
    "In the parquet schema the metadata `simulation`, `snapshot`, and `subhalo_id` are stored in the\n",
    "`metadata` column. The `data` column contains the actual data as a list. The actual shape `(3, 128,\n",
    "128)` is stored in the schema metadata."
   ]
  },
  {
   "cell_type": "code",
   "execution_count": null,
   "metadata": {},
   "outputs": [],
   "source": [
    "import pyarrow.dataset as ds\n",
    "\n",
    "dataset = ds.dataset(\"data/illustris/parquet\", format=\"parquet\")\n",
    "dataset.schema"
   ]
  },
  {
   "cell_type": "markdown",
   "metadata": {},
   "source": [
    "## Visualize training data\n",
    "\n",
    "To get an impression of the data, we can visualize the first 50 images of the training data."
   ]
  },
  {
   "cell_type": "code",
   "execution_count": null,
   "metadata": {},
   "outputs": [],
   "source": [
    "import numpy as np\n",
    "from PIL import Image\n",
    "import matplotlib.pyplot as plt\n",
    "%matplotlib inline\n",
    "\n",
    "df = dataset.to_table().to_pandas()\n",
    "fig, axes = plt.subplots(5, 5, figsize=(15, 15))\n",
    "for i, ax in enumerate(axes.flatten()):\n",
    "    data = np.array(df[\"data\"][i]).reshape(3, 128, 128).transpose(1, 2, 0) * 255\n",
    "    image = Image.fromarray(data.astype(np.uint8), \"RGB\")\n",
    "    ax.imshow(image)\n",
    "    ax.axis(\"off\")\n",
    "plt.show()"
   ]
  },
  {
   "cell_type": "markdown",
   "metadata": {},
   "source": [
    "## Training the model\n",
    "\n",
    "As model we define a `VariationalAutoencoder` with a convolutional network as encoder and decoder."
   ]
  },
  {
   "cell_type": "code",
   "execution_count": null,
   "metadata": {},
   "outputs": [],
   "source": [
    "import spherinator.models as sm\n",
    "\n",
    "model = sm.VariationalAutoencoder(\n",
    "    encoder=sm.ConvolutionalEncoder2D(\n",
    "        input_dim=[3, 128, 128],\n",
    "        output_dim=128,\n",
    "        cnn_layers=[\n",
    "            sm.ConsecutiveConv2DLayer(\n",
    "                kernel_size=3,\n",
    "                stride=1,\n",
    "                padding=0,\n",
    "                out_channels=[16, 20, 24],\n",
    "            ),\n",
    "            sm.ConsecutiveConv2DLayer(\n",
    "                kernel_size=4,\n",
    "                stride=2,\n",
    "                padding=0,\n",
    "                out_channels=[64, 128],\n",
    "            ),\n",
    "        ],\n",
    "    ),\n",
    "    decoder=sm.ConvolutionalDecoder2D(\n",
    "        input_dim=3,\n",
    "        output_dim=[3, 128, 128],\n",
    "        cnn_input_dim=[128, 28, 28],\n",
    "        cnn_layers=[\n",
    "            sm.ConsecutiveConvTranspose2DLayer(\n",
    "                kernel_size=5,\n",
    "                stride=2,\n",
    "                padding=0,\n",
    "                out_channels=[64],\n",
    "            ),\n",
    "            sm.ConsecutiveConvTranspose2DLayer(\n",
    "                kernel_size=6,\n",
    "                stride=2,\n",
    "                padding=0,\n",
    "                out_channels=[24],\n",
    "            ),\n",
    "            sm.ConsecutiveConvTranspose2DLayer(\n",
    "                kernel_size=3,\n",
    "                stride=1,\n",
    "                padding=0,\n",
    "                out_channels=[20, 16, 3],\n",
    "                activation=None,\n",
    "            ),\n",
    "        ],\n",
    "    ),\n",
    "    z_dim=3,\n",
    "    beta=1.0e-4,\n",
    "    encoder_out_dim=128,\n",
    ")"
   ]
  },
  {
   "cell_type": "markdown",
   "metadata": {},
   "source": [
    "## ParquetDataModule"
   ]
  },
  {
   "cell_type": "code",
   "execution_count": null,
   "metadata": {},
   "outputs": [],
   "source": [
    "from spherinator.data import ParquetDataModule\n",
    "\n",
    "datamodule = ParquetDataModule(\n",
    "    data_directory=\"data/illustris/parquet\",\n",
    "    data_column=\"data\",\n",
    "    normalize=\"minmax\",\n",
    "    batch_size=256,\n",
    "    num_workers=4,\n",
    "    shuffle=True,\n",
    ")"
   ]
  },
  {
   "cell_type": "code",
   "execution_count": null,
   "metadata": {},
   "outputs": [],
   "source": [
    "from lightning.pytorch import Trainer\n",
    "\n",
    "trainer = Trainer(\n",
    "    max_epochs=10,\n",
    "    accelerator=\"gpu\",\n",
    "    precision=\"16-mixed\",\n",
    ")\n",
    "trainer.fit(model, datamodule=datamodule)"
   ]
  },
  {
   "cell_type": "markdown",
   "metadata": {},
   "source": [
    "## Visualize the reconstructed images"
   ]
  },
  {
   "cell_type": "code",
   "execution_count": null,
   "metadata": {},
   "outputs": [],
   "source": [
    "# TODO: Maybe show tensorboard"
   ]
  },
  {
   "cell_type": "markdown",
   "metadata": {},
   "source": [
    "## Export the trained model to ONNX\n",
    "\n",
    "- The model include the variational autoencoder part, which is not needed for the Inference.\n",
    "- We export only the encoder and the decoder part of the model.\n",
    "- Dynamic axes are used to allow for variable input sizes.\n",
    "- Unique names are used for the input and output tensors."
   ]
  },
  {
   "cell_type": "code",
   "execution_count": null,
   "metadata": {},
   "outputs": [],
   "source": [
    "import torch\n",
    "\n",
    "onnx = torch.onnx.export(\n",
    "    model.variational_encoder,\n",
    "    torch.randn(2, 3, 128, 128, device=\"cpu\"),\n",
    "    dynamic_axes={\"x\": {0: \"batch\"}},\n",
    "    input_names=[\"x\"],\n",
    "    output_names=[\"coord\", \"scale\"],\n",
    "    dynamo=True,\n",
    ")\n",
    "onnx.optimize()\n",
    "onnx.save(\"data/illustris/models/encoder.onnx\")\n",
    "\n",
    "onnx = torch.onnx.export(\n",
    "    model.decoder,\n",
    "    torch.randn(2, 3, device=\"cpu\"),\n",
    "    dynamic_axes={\"input\": {0: \"batch\"}},\n",
    "    dynamo=True,\n",
    ")\n",
    "onnx.optimize()\n",
    "onnx.save(\"data/illustris/models/decoder.onnx\")"
   ]
  },
  {
   "cell_type": "markdown",
   "metadata": {},
   "source": [
    "## Visualize the ONNX model with netron\n",
    "\n",
    "[Netron](https://netron.app) is a viewer for neural network models.\n",
    "We can use it to visualize the ONNX model we just exported."
   ]
  },
  {
   "cell_type": "code",
   "execution_count": null,
   "metadata": {},
   "outputs": [],
   "source": [
    "!pip install -q netron\n",
    "import netron\n",
    "\n",
    "netron.start('data/illustris/models/encoder.onnx', 8082)"
   ]
  },
  {
   "cell_type": "markdown",
   "metadata": {},
   "source": [
    "## Pytorch Lightning Commnd Line Interface (CLI)\n",
    "\n",
    "Start the training using a unique [yaml config-file](./configs/spherinator/illustris.yaml) in reproducible mode."
   ]
  },
  {
   "cell_type": "code",
   "execution_count": null,
   "metadata": {},
   "outputs": [],
   "source": [
    "!spherinator fit -c configs/spherinator/illustris.yaml"
   ]
  }
 ],
 "metadata": {
  "kernelspec": {
   "display_name": ".venv",
   "language": "python",
   "name": "python3"
  },
  "language_info": {
   "codemirror_mode": {
    "name": "ipython",
    "version": 3
   },
   "file_extension": ".py",
   "mimetype": "text/x-python",
   "name": "python",
   "nbconvert_exporter": "python",
   "pygments_lexer": "ipython3",
   "version": "3.12.3"
  }
 },
 "nbformat": 4,
 "nbformat_minor": 2
}
