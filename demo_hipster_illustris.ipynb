{
 "cells": [
  {
   "cell_type": "markdown",
   "metadata": {},
   "source": [
    "<img style=\"float: right; margin-right: 100px\" src=\"./images/P404_f2.png\" width=\"200\" height=\"200\" />\n",
    "\n",
    "# HiPSter Inference using Illustris TNG\n",
    "\n",
    "This notebook demonstrates how to use HiPSter to perform inference on the Illustris TNG simulation\n",
    "data.\n",
    "\n"
   ]
  },
  {
   "cell_type": "markdown",
   "metadata": {},
   "source": [
    "## Hierarchical Progressive Surveys (HiPS)\n",
    "\n",
    "The Hierarchical Progressive Surveys (HiPS) offer an effective method for visualizing images on a\n",
    "sphere.\n",
    "This technique allows for the representation of the sky or a planetary surface on a spherical\n",
    "format, providing progressively detailed views as you zoom in.\n",
    "This is achieved through various levels of tiling, where a HiPS tile is split into four new tiles at each level.\n",
    "Rather than visualizing the sky, we reconstruct the trained dataset using the center of the HiPS tile as the reference point in the spherical latent space.\n",
    "\n",
    "<img src=\"./images/HEALPix.png\" style=\"width:50%;\">\n",
    "\n",
    "The task `hips.HiPSGenerator` creates HiPS tiles using the latent space of a trained model. For this\n",
    "process only the decoder is needed. The `hipster.Inference` utilizes `ONNXRuntime` to execute the\n",
    "encoding process. The `max_order` parameter specifies the maximum order for which HiPS tiles will be generated.\n"
   ]
  },
  {
   "cell_type": "code",
   "execution_count": null,
   "metadata": {},
   "outputs": [],
   "source": [
    "import hipster\n",
    "\n",
    "hipster.HiPSGenerator(\n",
    "    decoder=hipster.Inference(\"data/illustris/models/full_trained/decoder.onnx\"),\n",
    "    image_maker=hipster.ImagePlotter(),\n",
    "    max_order=4,\n",
    "    hips_path=\"output/illustris\",\n",
    ").execute()"
   ]
  },
  {
   "cell_type": "markdown",
   "metadata": {},
   "source": [
    "## Catalog as VOTable\n",
    "\n"
   ]
  },
  {
   "cell_type": "code",
   "execution_count": null,
   "metadata": {},
   "outputs": [],
   "source": [
    "hipster.VOTableGenerator(\n",
    "    encoder=hipster.Inference(\"data/illustris/models/full_trained/encoder.onnx\"),\n",
    "    data_directory=\"data/illustris/parquet\",\n",
    "    output_file=\"illustris.vot\",\n",
    "    root_path=\"output\",\n",
    ").execute()"
   ]
  },
  {
   "cell_type": "markdown",
   "metadata": {},
   "source": [
    "## Visualize HiPS tiles and catalog using Aladin\n",
    "\n",
    "- [aladin-lite](https://github.com/cds-astro/aladin-lite)\n",
    "- [ipyaladin](https://github.com/cds-astro/ipyaladin)"
   ]
  },
  {
   "cell_type": "code",
   "execution_count": null,
   "metadata": {},
   "outputs": [],
   "source": [
    "from ipyaladin import Aladin\n",
    "\n",
    "aladin = Aladin(survey=\"output/illustris\", fov=180, show_fullscreen_control=False)\n",
    "aladin.add_catalog_from_URL(\"output/illustris.vot\", {\"source_size\": 5, \"color\": \"red\"})\n",
    "aladin"
   ]
  },
  {
   "cell_type": "markdown",
   "metadata": {},
   "source": [
    "## Command Line Interface (CLI)\n",
    "\n",
    "In production, the HiPS tiles are generated using the CLI, similar to the PyTorch Lightning CLI.\n",
    "All configurations are written in a [yaml-file](./configs/hipster/illustris.yaml) and executed with the following command:"
   ]
  },
  {
   "cell_type": "code",
   "execution_count": null,
   "metadata": {},
   "outputs": [],
   "source": [
    "!hipster --config configs/hipster/illustris.yaml"
   ]
  },
  {
   "cell_type": "markdown",
   "metadata": {},
   "source": [
    "Now, let's run a webserver to visualize Aldin-Lite with the produced HiPS tiles and catalog:"
   ]
  },
  {
   "cell_type": "code",
   "execution_count": null,
   "metadata": {},
   "outputs": [],
   "source": [
    "!python -m http.server 8083 --bind localhost --directory HiPSter"
   ]
  }
 ],
 "metadata": {
  "kernelspec": {
   "display_name": ".venv",
   "language": "python",
   "name": "python3"
  },
  "language_info": {
   "codemirror_mode": {
    "name": "ipython",
    "version": 3
   },
   "file_extension": ".py",
   "mimetype": "text/x-python",
   "name": "python",
   "nbconvert_exporter": "python",
   "pygments_lexer": "ipython3",
   "version": "3.12.3"
  }
 },
 "nbformat": 4,
 "nbformat_minor": 2
}
