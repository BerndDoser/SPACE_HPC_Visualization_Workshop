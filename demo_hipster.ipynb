{
 "cells": [
  {
   "cell_type": "markdown",
   "metadata": {},
   "source": [
    "# Demo for HiPSter Inference using Gaia XP DR3"
   ]
  },
  {
   "cell_type": "code",
   "execution_count": 1,
   "metadata": {},
   "outputs": [
    {
     "name": "stdout",
     "output_type": "stream",
     "text": [
      "Executing task: HiPSGenerator\n"
     ]
    }
   ],
   "source": [
    "import hipster\n",
    "\n",
    "hipster.HiPSGenerator(\n",
    "    decoder=hipster.Inference(\"data/gaia/models/gaia-vae-8-nll-normal-v0/decoder.onnx\"),\n",
    "    image_maker=hipster.SpectrumPlotter(\n",
    "        wavelengths=hipster.Range(336, 1021, 2),\n",
    "        ylim=(0, 1),\n",
    "        figsize_in_pixel=128,\n",
    "        margin=0.02,\n",
    "        flip=True,\n",
    "    ),\n",
    "    max_order=1,\n",
    "    hierarchy=1,\n",
    "    hips_id=\"Gaia1\",\n",
    "    hips_name=\"Gaia XP DR3 model spectrum\",\n",
    "    hips_path=\"output/hips-gaia-model\",\n",
    ").execute()"
   ]
  },
  {
   "cell_type": "code",
   "execution_count": 2,
   "metadata": {},
   "outputs": [
    {
     "data": {
      "application/vnd.jupyter.widget-view+json": {
       "model_id": "70023ac6500746cc8e5b36725998c1af",
       "version_major": 2,
       "version_minor": 1
      },
      "text/plain": [
       "Aladin(survey='https://space.h-its.org/Illustris/model')"
      ]
     },
     "execution_count": 2,
     "metadata": {},
     "output_type": "execute_result"
    }
   ],
   "source": [
    "from ipyaladin import Aladin\n",
    "\n",
    "aladin = Aladin(survey=\"https://space.h-its.org/Illustris/model\")\n",
    "aladin"
   ]
  }
 ],
 "metadata": {
  "kernelspec": {
   "display_name": ".venv",
   "language": "python",
   "name": "python3"
  },
  "language_info": {
   "codemirror_mode": {
    "name": "ipython",
    "version": 3
   },
   "file_extension": ".py",
   "mimetype": "text/x-python",
   "name": "python",
   "nbconvert_exporter": "python",
   "pygments_lexer": "ipython3",
   "version": "3.12.3"
  }
 },
 "nbformat": 4,
 "nbformat_minor": 2
}
